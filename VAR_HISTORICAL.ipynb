{
 "cells": [
  {
   "cell_type": "code",
   "execution_count": 1,
   "id": "62a00b5e-8660-4f26-a169-14a98aa99b50",
   "metadata": {},
   "outputs": [
    {
     "name": "stdout",
     "output_type": "stream",
     "text": [
      "Defaulting to user installation because normal site-packages is not writeable\n",
      "Requirement already satisfied: scipy in c:\\programdata\\anaconda3\\lib\\site-packages (1.13.1)\n",
      "Requirement already satisfied: numpy<2.3,>=1.22.4 in c:\\programdata\\anaconda3\\lib\\site-packages (from scipy) (1.26.4)\n",
      "Note: you may need to restart the kernel to use updated packages.\n"
     ]
    }
   ],
   "source": [
    "pip install scipy "
   ]
  },
  {
   "cell_type": "code",
   "execution_count": 2,
   "id": "02847643-71dd-4aa6-a7ee-89df312923ee",
   "metadata": {},
   "outputs": [],
   "source": [
    "import pandas as pd\n",
    "import numpy as np\n",
    "import matplotlib.pyplot as plt\n",
    "import yfinance as yf\n",
    "from scipy.stats import norm"
   ]
  },
  {
   "cell_type": "code",
   "execution_count": 3,
   "id": "9023fbb7-aa6f-4092-99f3-1b7f82fcee4f",
   "metadata": {},
   "outputs": [],
   "source": [
    "import datetime as dt"
   ]
  },
  {
   "cell_type": "code",
   "execution_count": 21,
   "id": "51801bda-908f-4e40-a279-3b0222422668",
   "metadata": {},
   "outputs": [],
   "source": [
    "years = 5\n",
    "enddate = dt.datetime.now()\n",
    "startdate = enddate - dt.timedelta(days = 365*years)"
   ]
  },
  {
   "cell_type": "code",
   "execution_count": 22,
   "id": "41dc711c-c59f-42b2-8fed-324c49ac8f09",
   "metadata": {},
   "outputs": [],
   "source": [
    "tickers = ['AAPL','MSFT','TSLA','GOOGL','NVDA']"
   ]
  },
  {
   "cell_type": "code",
   "execution_count": 23,
   "id": "8214e81a-ddac-44ec-b59a-30c356fd75c1",
   "metadata": {},
   "outputs": [
    {
     "name": "stderr",
     "output_type": "stream",
     "text": [
      "[*********************100%***********************]  1 of 1 completed\n",
      "[*********************100%***********************]  1 of 1 completed\n",
      "[*********************100%***********************]  1 of 1 completed\n",
      "[*********************100%***********************]  1 of 1 completed\n",
      "[*********************100%***********************]  1 of 1 completed"
     ]
    },
    {
     "name": "stdout",
     "output_type": "stream",
     "text": [
      "                  AAPL        MSFT        TSLA       GOOGL        NVDA\n",
      "Date                                                                  \n",
      "2020-01-28   76.998711  158.260101   37.793331   72.263039    6.173369\n",
      "2020-01-29   78.610489  160.727829   38.732666   72.571922    6.112873\n",
      "2020-01-30   78.496574  165.261566   42.720669   72.449860    6.119595\n",
      "2020-01-31   75.016113  162.822479   43.371334   71.380241    5.886075\n",
      "2020-02-03   74.810112  166.791946   52.000000   73.862244    5.983167\n",
      "...                ...         ...         ...         ...         ...\n",
      "2025-01-17  229.979996  429.029999  426.500000  196.000000  137.710007\n",
      "2025-01-21  222.639999  428.500000  424.070007  198.050003  140.830002\n",
      "2025-01-22  223.830002  446.200012  415.109985  198.369995  147.070007\n",
      "2025-01-23  223.660004  446.709991  412.380005  197.979996  147.220001\n",
      "2025-01-24  222.779999  444.059998  406.579987  200.210007  142.619995\n",
      "\n",
      "[1256 rows x 5 columns]\n"
     ]
    },
    {
     "name": "stderr",
     "output_type": "stream",
     "text": [
      "\n"
     ]
    }
   ],
   "source": [
    "adj_close = pd.DataFrame()\n",
    "\n",
    "for ticker in tickers:\n",
    "    data = yf.download(ticker, start = startdate, end = enddate)\n",
    "    adj_close[ticker] = data['Adj Close'] \n",
    "\n",
    "print(adj_close)"
   ]
  },
  {
   "cell_type": "code",
   "execution_count": 24,
   "id": "a4f359cd-7c61-4341-9b70-18cb23368fc4",
   "metadata": {},
   "outputs": [
    {
     "name": "stdout",
     "output_type": "stream",
     "text": [
      "                AAPL      MSFT      TSLA     GOOGL      NVDA\n",
      "Date                                                        \n",
      "2020-01-29  0.020716  0.015473  0.024551  0.004265 -0.009848\n",
      "2020-01-30 -0.001450  0.027817  0.098000 -0.001683  0.001099\n",
      "2020-01-31 -0.045352 -0.014869  0.015116 -0.014874 -0.038907\n",
      "2020-02-03 -0.002750  0.024087  0.181445  0.034181  0.016361\n",
      "2020-02-04  0.032481  0.032386  0.128619 -0.025404  0.027902\n",
      "...              ...       ...       ...       ...       ...\n",
      "2025-01-17  0.007507  0.010426  0.030181  0.015891  0.030524\n",
      "2025-01-21 -0.032436 -0.001236 -0.005714  0.010405  0.022403\n",
      "2025-01-22  0.005331  0.040477 -0.021355  0.001614  0.043355\n",
      "2025-01-23 -0.000760  0.001142 -0.006598 -0.001968  0.001019\n",
      "2025-01-24 -0.003942 -0.005950 -0.014165  0.011201 -0.031744\n",
      "\n",
      "[1255 rows x 5 columns]\n"
     ]
    }
   ],
   "source": [
    "log_return = np.log(adj_close/adj_close.shift(1))\n",
    "log_return = log_return.dropna()\n",
    "print(log_return)"
   ]
  },
  {
   "cell_type": "code",
   "execution_count": 25,
   "id": "dc5ad604-1474-4fbc-a68c-2c4ce1e119ab",
   "metadata": {},
   "outputs": [
    {
     "name": "stdout",
     "output_type": "stream",
     "text": [
      "[0.2 0.2 0.2 0.2 0.2]\n"
     ]
    }
   ],
   "source": [
    "port_val = 1000000\n",
    "weight = np.array([1/len(tickers)]*len(tickers))\n",
    "print(weight)"
   ]
  },
  {
   "cell_type": "code",
   "execution_count": 30,
   "id": "3b72cc56-cb65-4121-85f1-4f65e268cb05",
   "metadata": {},
   "outputs": [
    {
     "data": {
      "text/plain": [
       "Date\n",
       "2020-01-29    0.011031\n",
       "2020-01-30    0.024756\n",
       "2020-01-31   -0.019777\n",
       "2020-02-03    0.050665\n",
       "2020-02-04    0.039197\n",
       "                ...   \n",
       "2025-01-17    0.018906\n",
       "2025-01-21   -0.001316\n",
       "2025-01-22    0.013884\n",
       "2025-01-23   -0.001433\n",
       "2025-01-24   -0.008920\n",
       "Length: 1255, dtype: float64"
      ]
     },
     "execution_count": 30,
     "metadata": {},
     "output_type": "execute_result"
    }
   ],
   "source": [
    "hist_return = (log_return * weight).sum(axis =1)\n",
    "hist_return"
   ]
  },
  {
   "cell_type": "code",
   "execution_count": 33,
   "id": "dc7bf93e-2cf8-4996-9053-d1f19be731b2",
   "metadata": {},
   "outputs": [
    {
     "data": {
      "text/plain": [
       "Date\n",
       "2020-02-04    0.105872\n",
       "2020-02-05    0.061535\n",
       "2020-02-06    0.053914\n",
       "2020-02-07    0.069321\n",
       "2020-02-10    0.043683\n",
       "                ...   \n",
       "2025-01-17    0.021059\n",
       "2025-01-21    0.023428\n",
       "2025-01-22    0.046114\n",
       "2025-01-23    0.007463\n",
       "2025-01-24    0.021122\n",
       "Length: 1251, dtype: float64"
      ]
     },
     "execution_count": 33,
     "metadata": {},
     "output_type": "execute_result"
    }
   ],
   "source": [
    "days = 5\n",
    "range_ret = hist_return.rolling(window = days).sum()\n",
    "range_ret = range_ret.dropna()\n",
    "range_ret"
   ]
  },
  {
   "cell_type": "code",
   "execution_count": 35,
   "id": "f8f8d83d-a844-42c8-8490-29850727fc75",
   "metadata": {},
   "outputs": [
    {
     "data": {
      "text/plain": [
       "-68175.84809583446"
      ]
     },
     "execution_count": 35,
     "metadata": {},
     "output_type": "execute_result"
    }
   ],
   "source": [
    "cf = 0.95\n",
    "var = np.percentile(range_ret,100 - (cf*100))\n",
    "var_dollar = var * port_val\n",
    "var_dollar"
   ]
  },
  {
   "cell_type": "code",
   "execution_count": null,
   "id": "7247e575-cd09-460b-a27f-f7cd839e5347",
   "metadata": {},
   "outputs": [],
   "source": []
  }
 ],
 "metadata": {
  "kernelspec": {
   "display_name": "Python 3 (ipykernel)",
   "language": "python",
   "name": "python3"
  },
  "language_info": {
   "codemirror_mode": {
    "name": "ipython",
    "version": 3
   },
   "file_extension": ".py",
   "mimetype": "text/x-python",
   "name": "python",
   "nbconvert_exporter": "python",
   "pygments_lexer": "ipython3",
   "version": "3.12.7"
  }
 },
 "nbformat": 4,
 "nbformat_minor": 5
}
