{
 "cells": [
  {
   "cell_type": "markdown",
   "id": "d10b2344-dfad-409e-8811-155f9afe5c59",
   "metadata": {},
   "source": [
    "# PARAMETRIC VAR Calculation for 5 Stock Portfolio"
   ]
  },
  {
   "cell_type": "code",
   "execution_count": 1,
   "id": "19fe2801-95c1-4597-9737-75c368b57c52",
   "metadata": {},
   "outputs": [],
   "source": [
    "# importing relevant library for VAR calculation\n",
    "import pandas as pd\n",
    "import numpy as np\n",
    "import yfinance as yf\n",
    "import datetime as dt"
   ]
  },
  {
   "cell_type": "code",
   "execution_count": 2,
   "id": "899566be-5c7a-44f0-a0ec-b64e26d6b465",
   "metadata": {},
   "outputs": [],
   "source": [
    "# setting years, start date, end date for fetching data from the yfinance library\n",
    "years = 15\n",
    "enddate = dt.datetime.now()\n",
    "startdate = enddate - dt.timedelta(days = 365*years)"
   ]
  },
  {
   "cell_type": "code",
   "execution_count": 3,
   "id": "81046ef0-4e39-41e1-bbe8-5c8b10ea515f",
   "metadata": {},
   "outputs": [
    {
     "name": "stdout",
     "output_type": "stream",
     "text": [
      "YF.download() has changed argument auto_adjust default to True\n"
     ]
    },
    {
     "name": "stderr",
     "output_type": "stream",
     "text": [
      "[*********************100%***********************]  5 of 5 completed\n"
     ]
    },
    {
     "data": {
      "text/html": [
       "<div>\n",
       "<style scoped>\n",
       "    .dataframe tbody tr th:only-of-type {\n",
       "        vertical-align: middle;\n",
       "    }\n",
       "\n",
       "    .dataframe tbody tr th {\n",
       "        vertical-align: top;\n",
       "    }\n",
       "\n",
       "    .dataframe thead th {\n",
       "        text-align: right;\n",
       "    }\n",
       "</style>\n",
       "<table border=\"1\" class=\"dataframe\">\n",
       "  <thead>\n",
       "    <tr style=\"text-align: right;\">\n",
       "      <th>Ticker</th>\n",
       "      <th>BND</th>\n",
       "      <th>GLD</th>\n",
       "      <th>QQQ</th>\n",
       "      <th>SPY</th>\n",
       "      <th>VTI</th>\n",
       "    </tr>\n",
       "    <tr>\n",
       "      <th>Date</th>\n",
       "      <th></th>\n",
       "      <th></th>\n",
       "      <th></th>\n",
       "      <th></th>\n",
       "      <th></th>\n",
       "    </tr>\n",
       "  </thead>\n",
       "  <tbody>\n",
       "    <tr>\n",
       "      <th>2010-04-22</th>\n",
       "      <td>51.698231</td>\n",
       "      <td>111.839996</td>\n",
       "      <td>43.925358</td>\n",
       "      <td>91.965431</td>\n",
       "      <td>47.387188</td>\n",
       "    </tr>\n",
       "    <tr>\n",
       "      <th>2010-04-23</th>\n",
       "      <td>51.659161</td>\n",
       "      <td>113.190002</td>\n",
       "      <td>44.108692</td>\n",
       "      <td>92.565750</td>\n",
       "      <td>47.707932</td>\n",
       "    </tr>\n",
       "    <tr>\n",
       "      <th>2010-04-26</th>\n",
       "      <td>51.633125</td>\n",
       "      <td>112.750000</td>\n",
       "      <td>44.012669</td>\n",
       "      <td>92.216194</td>\n",
       "      <td>47.539921</td>\n",
       "    </tr>\n",
       "    <tr>\n",
       "      <th>2010-04-27</th>\n",
       "      <td>51.821907</td>\n",
       "      <td>114.629997</td>\n",
       "      <td>43.078461</td>\n",
       "      <td>90.035210</td>\n",
       "      <td>46.394379</td>\n",
       "    </tr>\n",
       "    <tr>\n",
       "      <th>2010-04-28</th>\n",
       "      <td>51.789368</td>\n",
       "      <td>114.309998</td>\n",
       "      <td>43.104671</td>\n",
       "      <td>90.719147</td>\n",
       "      <td>46.699852</td>\n",
       "    </tr>\n",
       "    <tr>\n",
       "      <th>...</th>\n",
       "      <td>...</td>\n",
       "      <td>...</td>\n",
       "      <td>...</td>\n",
       "      <td>...</td>\n",
       "      <td>...</td>\n",
       "    </tr>\n",
       "    <tr>\n",
       "      <th>2025-04-11</th>\n",
       "      <td>72.019997</td>\n",
       "      <td>297.929993</td>\n",
       "      <td>454.399994</td>\n",
       "      <td>533.940002</td>\n",
       "      <td>261.739990</td>\n",
       "    </tr>\n",
       "    <tr>\n",
       "      <th>2025-04-14</th>\n",
       "      <td>72.430000</td>\n",
       "      <td>296.230011</td>\n",
       "      <td>457.480011</td>\n",
       "      <td>539.119995</td>\n",
       "      <td>264.149994</td>\n",
       "    </tr>\n",
       "    <tr>\n",
       "      <th>2025-04-15</th>\n",
       "      <td>72.610001</td>\n",
       "      <td>297.779999</td>\n",
       "      <td>457.989990</td>\n",
       "      <td>537.609985</td>\n",
       "      <td>263.690002</td>\n",
       "    </tr>\n",
       "    <tr>\n",
       "      <th>2025-04-16</th>\n",
       "      <td>72.809998</td>\n",
       "      <td>307.470001</td>\n",
       "      <td>444.179993</td>\n",
       "      <td>525.659973</td>\n",
       "      <td>258.209991</td>\n",
       "    </tr>\n",
       "    <tr>\n",
       "      <th>2025-04-17</th>\n",
       "      <td>72.650002</td>\n",
       "      <td>306.119995</td>\n",
       "      <td>444.100006</td>\n",
       "      <td>526.409973</td>\n",
       "      <td>258.750000</td>\n",
       "    </tr>\n",
       "  </tbody>\n",
       "</table>\n",
       "<p>3772 rows × 5 columns</p>\n",
       "</div>"
      ],
      "text/plain": [
       "Ticker            BND         GLD         QQQ         SPY         VTI\n",
       "Date                                                                 \n",
       "2010-04-22  51.698231  111.839996   43.925358   91.965431   47.387188\n",
       "2010-04-23  51.659161  113.190002   44.108692   92.565750   47.707932\n",
       "2010-04-26  51.633125  112.750000   44.012669   92.216194   47.539921\n",
       "2010-04-27  51.821907  114.629997   43.078461   90.035210   46.394379\n",
       "2010-04-28  51.789368  114.309998   43.104671   90.719147   46.699852\n",
       "...               ...         ...         ...         ...         ...\n",
       "2025-04-11  72.019997  297.929993  454.399994  533.940002  261.739990\n",
       "2025-04-14  72.430000  296.230011  457.480011  539.119995  264.149994\n",
       "2025-04-15  72.610001  297.779999  457.989990  537.609985  263.690002\n",
       "2025-04-16  72.809998  307.470001  444.179993  525.659973  258.209991\n",
       "2025-04-17  72.650002  306.119995  444.100006  526.409973  258.750000\n",
       "\n",
       "[3772 rows x 5 columns]"
      ]
     },
     "execution_count": 3,
     "metadata": {},
     "output_type": "execute_result"
    }
   ],
   "source": [
    "# The ticker contains indices\n",
    "# fetching the data through yfinance library \n",
    "# we are only going to take adjusted closing price\n",
    "tickers = ['SPY','BND','GLD','QQQ','VTI']\n",
    "data = yf.download(tickers, start = startdate, end = enddate)['Close']\n",
    "data"
   ]
  },
  {
   "cell_type": "code",
   "execution_count": 4,
   "id": "3abe3bd2-461e-41ad-abf3-a995d829eedf",
   "metadata": {},
   "outputs": [
    {
     "data": {
      "text/html": [
       "<div>\n",
       "<style scoped>\n",
       "    .dataframe tbody tr th:only-of-type {\n",
       "        vertical-align: middle;\n",
       "    }\n",
       "\n",
       "    .dataframe tbody tr th {\n",
       "        vertical-align: top;\n",
       "    }\n",
       "\n",
       "    .dataframe thead th {\n",
       "        text-align: right;\n",
       "    }\n",
       "</style>\n",
       "<table border=\"1\" class=\"dataframe\">\n",
       "  <thead>\n",
       "    <tr style=\"text-align: right;\">\n",
       "      <th>Ticker</th>\n",
       "      <th>BND</th>\n",
       "      <th>GLD</th>\n",
       "      <th>QQQ</th>\n",
       "      <th>SPY</th>\n",
       "      <th>VTI</th>\n",
       "    </tr>\n",
       "    <tr>\n",
       "      <th>Date</th>\n",
       "      <th></th>\n",
       "      <th></th>\n",
       "      <th></th>\n",
       "      <th></th>\n",
       "      <th></th>\n",
       "    </tr>\n",
       "  </thead>\n",
       "  <tbody>\n",
       "    <tr>\n",
       "      <th>2010-04-23</th>\n",
       "      <td>-0.000756</td>\n",
       "      <td>0.011999</td>\n",
       "      <td>0.004165</td>\n",
       "      <td>0.006506</td>\n",
       "      <td>0.006746</td>\n",
       "    </tr>\n",
       "    <tr>\n",
       "      <th>2010-04-26</th>\n",
       "      <td>-0.000504</td>\n",
       "      <td>-0.003895</td>\n",
       "      <td>-0.002179</td>\n",
       "      <td>-0.003783</td>\n",
       "      <td>-0.003528</td>\n",
       "    </tr>\n",
       "    <tr>\n",
       "      <th>2010-04-27</th>\n",
       "      <td>0.003650</td>\n",
       "      <td>0.016537</td>\n",
       "      <td>-0.021454</td>\n",
       "      <td>-0.023935</td>\n",
       "      <td>-0.024391</td>\n",
       "    </tr>\n",
       "    <tr>\n",
       "      <th>2010-04-28</th>\n",
       "      <td>-0.000628</td>\n",
       "      <td>-0.002795</td>\n",
       "      <td>0.000608</td>\n",
       "      <td>0.007568</td>\n",
       "      <td>0.006563</td>\n",
       "    </tr>\n",
       "    <tr>\n",
       "      <th>2010-04-29</th>\n",
       "      <td>0.000377</td>\n",
       "      <td>-0.000262</td>\n",
       "      <td>0.017270</td>\n",
       "      <td>0.012321</td>\n",
       "      <td>0.012998</td>\n",
       "    </tr>\n",
       "    <tr>\n",
       "      <th>...</th>\n",
       "      <td>...</td>\n",
       "      <td>...</td>\n",
       "      <td>...</td>\n",
       "      <td>...</td>\n",
       "      <td>...</td>\n",
       "    </tr>\n",
       "    <tr>\n",
       "      <th>2025-04-11</th>\n",
       "      <td>-0.001110</td>\n",
       "      <td>0.018907</td>\n",
       "      <td>0.018255</td>\n",
       "      <td>0.017686</td>\n",
       "      <td>0.016604</td>\n",
       "    </tr>\n",
       "    <tr>\n",
       "      <th>2025-04-14</th>\n",
       "      <td>0.005677</td>\n",
       "      <td>-0.005722</td>\n",
       "      <td>0.006755</td>\n",
       "      <td>0.009655</td>\n",
       "      <td>0.009165</td>\n",
       "    </tr>\n",
       "    <tr>\n",
       "      <th>2025-04-15</th>\n",
       "      <td>0.002482</td>\n",
       "      <td>0.005219</td>\n",
       "      <td>0.001114</td>\n",
       "      <td>-0.002805</td>\n",
       "      <td>-0.001743</td>\n",
       "    </tr>\n",
       "    <tr>\n",
       "      <th>2025-04-16</th>\n",
       "      <td>0.002751</td>\n",
       "      <td>0.032023</td>\n",
       "      <td>-0.030617</td>\n",
       "      <td>-0.022479</td>\n",
       "      <td>-0.021001</td>\n",
       "    </tr>\n",
       "    <tr>\n",
       "      <th>2025-04-17</th>\n",
       "      <td>-0.002200</td>\n",
       "      <td>-0.004400</td>\n",
       "      <td>-0.000180</td>\n",
       "      <td>0.001426</td>\n",
       "      <td>0.002089</td>\n",
       "    </tr>\n",
       "  </tbody>\n",
       "</table>\n",
       "<p>3771 rows × 5 columns</p>\n",
       "</div>"
      ],
      "text/plain": [
       "Ticker           BND       GLD       QQQ       SPY       VTI\n",
       "Date                                                        \n",
       "2010-04-23 -0.000756  0.011999  0.004165  0.006506  0.006746\n",
       "2010-04-26 -0.000504 -0.003895 -0.002179 -0.003783 -0.003528\n",
       "2010-04-27  0.003650  0.016537 -0.021454 -0.023935 -0.024391\n",
       "2010-04-28 -0.000628 -0.002795  0.000608  0.007568  0.006563\n",
       "2010-04-29  0.000377 -0.000262  0.017270  0.012321  0.012998\n",
       "...              ...       ...       ...       ...       ...\n",
       "2025-04-11 -0.001110  0.018907  0.018255  0.017686  0.016604\n",
       "2025-04-14  0.005677 -0.005722  0.006755  0.009655  0.009165\n",
       "2025-04-15  0.002482  0.005219  0.001114 -0.002805 -0.001743\n",
       "2025-04-16  0.002751  0.032023 -0.030617 -0.022479 -0.021001\n",
       "2025-04-17 -0.002200 -0.004400 -0.000180  0.001426  0.002089\n",
       "\n",
       "[3771 rows x 5 columns]"
      ]
     },
     "execution_count": 4,
     "metadata": {},
     "output_type": "execute_result"
    }
   ],
   "source": [
    "# getting the daily return of the 5 stocks\n",
    "log_ret = np.log(data/data.shift(1))\n",
    "log_ret = log_ret.dropna()\n",
    "log_ret"
   ]
  },
  {
   "cell_type": "code",
   "execution_count": 5,
   "id": "70a00eb7-ab3b-4115-be46-fe9cff5cad45",
   "metadata": {},
   "outputs": [
    {
     "data": {
      "text/plain": [
       "array([0.2, 0.2, 0.2, 0.2, 0.2])"
      ]
     },
     "execution_count": 5,
     "metadata": {},
     "output_type": "execute_result"
    }
   ],
   "source": [
    "# lets assume that we have 1 million dollar portfolio and we are equally investing in the 5 stocks\n",
    "port_val = 1000000\n",
    "weights = np.array([1/len(tickers)]*len(tickers))\n",
    "weights"
   ]
  },
  {
   "cell_type": "code",
   "execution_count": 6,
   "id": "1353ec4c-74f1-431f-8537-c3bfda0f00b8",
   "metadata": {},
   "outputs": [
    {
     "data": {
      "text/plain": [
       "Date\n",
       "2010-04-23    0.005732\n",
       "2010-04-26   -0.002778\n",
       "2010-04-27   -0.009919\n",
       "2010-04-28    0.002263\n",
       "2010-04-29    0.008541\n",
       "                ...   \n",
       "2025-04-11    0.014068\n",
       "2025-04-14    0.005106\n",
       "2025-04-15    0.000853\n",
       "2025-04-16   -0.007865\n",
       "2025-04-17   -0.000653\n",
       "Length: 3771, dtype: float64"
      ]
     },
     "execution_count": 6,
     "metadata": {},
     "output_type": "execute_result"
    }
   ],
   "source": [
    "# Multiplying the indices return with its designated weights and summing it up\n",
    "hist_return = (log_ret* weights).sum(axis = 1)\n",
    "hist_return"
   ]
  },
  {
   "cell_type": "code",
   "execution_count": 7,
   "id": "847c1e4d-f72a-4959-be4d-9ffe3dffe1a4",
   "metadata": {},
   "outputs": [
    {
     "data": {
      "text/html": [
       "<div>\n",
       "<style scoped>\n",
       "    .dataframe tbody tr th:only-of-type {\n",
       "        vertical-align: middle;\n",
       "    }\n",
       "\n",
       "    .dataframe tbody tr th {\n",
       "        vertical-align: top;\n",
       "    }\n",
       "\n",
       "    .dataframe thead th {\n",
       "        text-align: right;\n",
       "    }\n",
       "</style>\n",
       "<table border=\"1\" class=\"dataframe\">\n",
       "  <thead>\n",
       "    <tr style=\"text-align: right;\">\n",
       "      <th>Ticker</th>\n",
       "      <th>BND</th>\n",
       "      <th>GLD</th>\n",
       "      <th>QQQ</th>\n",
       "      <th>SPY</th>\n",
       "      <th>VTI</th>\n",
       "    </tr>\n",
       "    <tr>\n",
       "      <th>Ticker</th>\n",
       "      <th></th>\n",
       "      <th></th>\n",
       "      <th></th>\n",
       "      <th></th>\n",
       "      <th></th>\n",
       "    </tr>\n",
       "  </thead>\n",
       "  <tbody>\n",
       "    <tr>\n",
       "      <th>BND</th>\n",
       "      <td>0.002397</td>\n",
       "      <td>0.002291</td>\n",
       "      <td>0.000272</td>\n",
       "      <td>0.000073</td>\n",
       "      <td>0.000122</td>\n",
       "    </tr>\n",
       "    <tr>\n",
       "      <th>GLD</th>\n",
       "      <td>0.002291</td>\n",
       "      <td>0.024117</td>\n",
       "      <td>0.001814</td>\n",
       "      <td>0.001431</td>\n",
       "      <td>0.001567</td>\n",
       "    </tr>\n",
       "    <tr>\n",
       "      <th>QQQ</th>\n",
       "      <td>0.000272</td>\n",
       "      <td>0.001814</td>\n",
       "      <td>0.043936</td>\n",
       "      <td>0.034179</td>\n",
       "      <td>0.034837</td>\n",
       "    </tr>\n",
       "    <tr>\n",
       "      <th>SPY</th>\n",
       "      <td>0.000073</td>\n",
       "      <td>0.001431</td>\n",
       "      <td>0.034179</td>\n",
       "      <td>0.030629</td>\n",
       "      <td>0.031213</td>\n",
       "    </tr>\n",
       "    <tr>\n",
       "      <th>VTI</th>\n",
       "      <td>0.000122</td>\n",
       "      <td>0.001567</td>\n",
       "      <td>0.034837</td>\n",
       "      <td>0.031213</td>\n",
       "      <td>0.032056</td>\n",
       "    </tr>\n",
       "  </tbody>\n",
       "</table>\n",
       "</div>"
      ],
      "text/plain": [
       "Ticker       BND       GLD       QQQ       SPY       VTI\n",
       "Ticker                                                  \n",
       "BND     0.002397  0.002291  0.000272  0.000073  0.000122\n",
       "GLD     0.002291  0.024117  0.001814  0.001431  0.001567\n",
       "QQQ     0.000272  0.001814  0.043936  0.034179  0.034837\n",
       "SPY     0.000073  0.001431  0.034179  0.030629  0.031213\n",
       "VTI     0.000122  0.001567  0.034837  0.031213  0.032056"
      ]
     },
     "execution_count": 7,
     "metadata": {},
     "output_type": "execute_result"
    }
   ],
   "source": [
    "# calculating the covariances of 2 indices and presenting it in a convariance matrix and also annualising the same\n",
    "cov_mat = log_ret.cov()*252\n",
    "cov_mat"
   ]
  },
  {
   "cell_type": "code",
   "execution_count": 8,
   "id": "df491086-f68c-49bf-ad70-3fdb4d3d5917",
   "metadata": {},
   "outputs": [
    {
     "data": {
      "text/plain": [
       "0.11810715175195349"
      ]
     },
     "execution_count": 8,
     "metadata": {},
     "output_type": "execute_result"
    }
   ],
   "source": [
    "# calculating the standard deviation of the 5 stock portfolio\n",
    "# here @ calculate the dot matrix\n",
    "std_port = np.sqrt(weights.T @ cov_mat @ weights)\n",
    "std_port"
   ]
  },
  {
   "cell_type": "code",
   "execution_count": 9,
   "id": "e2b9630f-3578-4b56-af27-37e068e6c270",
   "metadata": {},
   "outputs": [],
   "source": [
    "# an array of confidence interval i.e., 90%,95% and 99%\n",
    "# getting scipy library to get norm.ppf which help in getting z-score for the given confidence interval \n",
    "conf_level = [0.90,0.95,0.99]\n",
    "from scipy.stats import norm\n",
    "VARs=[]"
   ]
  },
  {
   "cell_type": "code",
   "execution_count": 10,
   "id": "fa04b981-1360-47b2-b0b4-e12c5a7b4584",
   "metadata": {},
   "outputs": [
    {
     "data": {
      "text/plain": [
       "0.09493100999421002"
      ]
     },
     "execution_count": 10,
     "metadata": {},
     "output_type": "execute_result"
    }
   ],
   "source": [
    "# calculating the annualised average return of the portfolio \n",
    "hist_return.mean()*252"
   ]
  },
  {
   "cell_type": "code",
   "execution_count": 13,
   "id": "384410b8-9dcc-4aa1-b4b0-218c934064a7",
   "metadata": {},
   "outputs": [
    {
     "name": "stdout",
     "output_type": "stream",
     "text": [
      "-56429.39523551967\n",
      "-99337.96693389861\n",
      "-179827.311392966\n"
     ]
    }
   ],
   "source": [
    "# using for loop to get VAR for 90%, 95%, and 99% confidence interval\n",
    "# The formula = (P.return - (P.std * z-score)) * P.value\n",
    "for cl in conf_level:\n",
    "    VAR = port_val* (hist_return.mean()*252 - (std_port * norm.ppf(cl)))\n",
    "    print(VAR)"
   ]
  },
  {
   "cell_type": "code",
   "execution_count": null,
   "id": "32504075-046e-482c-b4e0-3f5fb73cf00e",
   "metadata": {},
   "outputs": [],
   "source": []
  },
  {
   "cell_type": "code",
   "execution_count": null,
   "id": "68018e20-49f5-4e19-bd1f-3089baf0a7a7",
   "metadata": {},
   "outputs": [],
   "source": []
  },
  {
   "cell_type": "code",
   "execution_count": null,
   "id": "2e1baa01-13ba-440e-966d-a1a99c1649ea",
   "metadata": {},
   "outputs": [],
   "source": []
  }
 ],
 "metadata": {
  "kernelspec": {
   "display_name": "Python 3 (ipykernel)",
   "language": "python",
   "name": "python3"
  },
  "language_info": {
   "codemirror_mode": {
    "name": "ipython",
    "version": 3
   },
   "file_extension": ".py",
   "mimetype": "text/x-python",
   "name": "python",
   "nbconvert_exporter": "python",
   "pygments_lexer": "ipython3",
   "version": "3.12.7"
  }
 },
 "nbformat": 4,
 "nbformat_minor": 5
}
