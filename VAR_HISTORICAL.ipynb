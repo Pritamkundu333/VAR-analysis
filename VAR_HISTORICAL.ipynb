{
 "cells": [
  {
   "cell_type": "markdown",
   "id": "0ef55c23-2565-4a03-b8db-0550b2897fa1",
   "metadata": {},
   "source": [
    "# VAR calculation for 5 Stock Portfolio"
   ]
  },
  {
   "cell_type": "code",
   "execution_count": 12,
   "id": "62a00b5e-8660-4f26-a169-14a98aa99b50",
   "metadata": {},
   "outputs": [
    {
     "name": "stdout",
     "output_type": "stream",
     "text": [
      "Defaulting to user installation because normal site-packages is not writeable\n",
      "Requirement already satisfied: yfinance in c:\\users\\hp\\appdata\\roaming\\python\\python312\\site-packages (0.2.55)\n",
      "Requirement already satisfied: pandas>=1.3.0 in c:\\programdata\\anaconda3\\lib\\site-packages (from yfinance) (2.2.2)\n",
      "Requirement already satisfied: numpy>=1.16.5 in c:\\programdata\\anaconda3\\lib\\site-packages (from yfinance) (1.26.4)\n",
      "Requirement already satisfied: requests>=2.31 in c:\\users\\hp\\appdata\\roaming\\python\\python312\\site-packages (from yfinance) (2.32.3)\n",
      "Requirement already satisfied: multitasking>=0.0.7 in c:\\users\\hp\\appdata\\roaming\\python\\python312\\site-packages (from yfinance) (0.0.11)\n",
      "Requirement already satisfied: platformdirs>=2.0.0 in c:\\users\\hp\\appdata\\roaming\\python\\python312\\site-packages (from yfinance) (4.2.2)\n",
      "Requirement already satisfied: pytz>=2022.5 in c:\\programdata\\anaconda3\\lib\\site-packages (from yfinance) (2024.1)\n",
      "Requirement already satisfied: frozendict>=2.3.4 in c:\\programdata\\anaconda3\\lib\\site-packages (from yfinance) (2.4.2)\n",
      "Requirement already satisfied: peewee>=3.16.2 in c:\\users\\hp\\appdata\\roaming\\python\\python312\\site-packages (from yfinance) (3.17.8)\n",
      "Requirement already satisfied: beautifulsoup4>=4.11.1 in c:\\users\\hp\\appdata\\roaming\\python\\python312\\site-packages (from yfinance) (4.12.3)\n",
      "Requirement already satisfied: soupsieve>1.2 in c:\\users\\hp\\appdata\\roaming\\python\\python312\\site-packages (from beautifulsoup4>=4.11.1->yfinance) (2.6)\n",
      "Requirement already satisfied: python-dateutil>=2.8.2 in c:\\users\\hp\\appdata\\roaming\\python\\python312\\site-packages (from pandas>=1.3.0->yfinance) (2.9.0.post0)\n",
      "Requirement already satisfied: tzdata>=2022.7 in c:\\programdata\\anaconda3\\lib\\site-packages (from pandas>=1.3.0->yfinance) (2023.3)\n",
      "Requirement already satisfied: charset-normalizer<4,>=2 in c:\\users\\hp\\appdata\\roaming\\python\\python312\\site-packages (from requests>=2.31->yfinance) (3.3.2)\n",
      "Requirement already satisfied: idna<4,>=2.5 in c:\\users\\hp\\appdata\\roaming\\python\\python312\\site-packages (from requests>=2.31->yfinance) (3.8)\n",
      "Requirement already satisfied: urllib3<3,>=1.21.1 in c:\\users\\hp\\appdata\\roaming\\python\\python312\\site-packages (from requests>=2.31->yfinance) (2.2.2)\n",
      "Requirement already satisfied: certifi>=2017.4.17 in c:\\users\\hp\\appdata\\roaming\\python\\python312\\site-packages (from requests>=2.31->yfinance) (2024.8.30)\n",
      "Requirement already satisfied: six>=1.5 in c:\\users\\hp\\appdata\\roaming\\python\\python312\\site-packages (from python-dateutil>=2.8.2->pandas>=1.3.0->yfinance) (1.16.0)\n",
      "Note: you may need to restart the kernel to use updated packages.\n"
     ]
    },
    {
     "name": "stderr",
     "output_type": "stream",
     "text": [
      "\n",
      "[notice] A new release of pip is available: 24.3.1 -> 25.0.1\n",
      "[notice] To update, run: python.exe -m pip install --upgrade pip\n"
     ]
    }
   ],
   "source": [
    "pip install --upgrade yfinance"
   ]
  },
  {
   "cell_type": "code",
   "execution_count": 1,
   "id": "02847643-71dd-4aa6-a7ee-89df312923ee",
   "metadata": {},
   "outputs": [],
   "source": [
    "# importing relevant library for VAR calculation\n",
    "import pandas as pd\n",
    "import numpy as np\n",
    "import matplotlib.pyplot as plt\n",
    "import yfinance as yf\n",
    "from scipy.stats import norm"
   ]
  },
  {
   "cell_type": "code",
   "execution_count": 2,
   "id": "9023fbb7-aa6f-4092-99f3-1b7f82fcee4f",
   "metadata": {},
   "outputs": [],
   "source": [
    "# importing datetime library\n",
    "import datetime as dt"
   ]
  },
  {
   "cell_type": "code",
   "execution_count": 3,
   "id": "51801bda-908f-4e40-a279-3b0222422668",
   "metadata": {},
   "outputs": [],
   "source": [
    "# setting years, start date, end date for fetching data from the yfinance library\n",
    "years = 5\n",
    "enddate = dt.datetime.now()\n",
    "startdate = enddate - dt.timedelta(days = 365*years)"
   ]
  },
  {
   "cell_type": "code",
   "execution_count": 4,
   "id": "41dc711c-c59f-42b2-8fed-324c49ac8f09",
   "metadata": {},
   "outputs": [],
   "source": [
    "# stocks ticker symbol including Apple, Microsoft, Tesla, Google, Nvidia\n",
    "tickers = ['AAPL','MSFT','TSLA','GOOGL','NVDA']"
   ]
  },
  {
   "cell_type": "code",
   "execution_count": 5,
   "id": "8214e81a-ddac-44ec-b59a-30c356fd75c1",
   "metadata": {},
   "outputs": [
    {
     "name": "stdout",
     "output_type": "stream",
     "text": [
      "YF.download() has changed argument auto_adjust default to True\n"
     ]
    },
    {
     "name": "stderr",
     "output_type": "stream",
     "text": [
      "[*********************100%***********************]  1 of 1 completed\n",
      "[*********************100%***********************]  1 of 1 completed\n",
      "[*********************100%***********************]  1 of 1 completed\n",
      "[*********************100%***********************]  1 of 1 completed\n",
      "[*********************100%***********************]  1 of 1 completed"
     ]
    },
    {
     "name": "stdout",
     "output_type": "stream",
     "text": [
      "                  AAPL        MSFT        TSLA       GOOGL        NVDA\n",
      "Date                                                                  \n",
      "2020-04-20   67.205101  167.563736   49.757332   62.757462    7.149908\n",
      "2020-04-21   65.127792  160.633759   45.781334   60.319618    6.713017\n",
      "2020-04-22   67.003685  166.089661   48.807335   62.621113    7.127491\n",
      "2020-04-23   66.744026  164.079559   47.042000   63.256073    7.074186\n",
      "2020-04-24   68.670891  167.075546   48.343334   63.526283    7.213175\n",
      "...                ...         ...         ...         ...         ...\n",
      "2025-04-11  198.149994  388.450012  252.309998  157.139999  110.930000\n",
      "2025-04-14  202.520004  387.809998  252.350006  159.070007  110.709999\n",
      "2025-04-15  202.139999  385.730011  254.110001  156.309998  112.199997\n",
      "2025-04-16  194.270004  371.609985  241.550003  153.330002  104.489998\n",
      "2025-04-17  196.979996  367.779999  241.369995  151.160004  101.489998\n",
      "\n",
      "[1257 rows x 5 columns]\n"
     ]
    },
    {
     "name": "stderr",
     "output_type": "stream",
     "text": [
      "\n"
     ]
    }
   ],
   "source": [
    "# using for loop to call the data one by one and storing it in adj_close variable\n",
    "# we are only going to take adjusted closing price\n",
    "data = pd.DataFrame()\n",
    "for i in tickers:\n",
    "    data[i] = yf.download(i,startdate,enddate)['Close']\n",
    "\n",
    "print(data)"
   ]
  },
  {
   "cell_type": "code",
   "execution_count": 6,
   "id": "a4f359cd-7c61-4341-9b70-18cb23368fc4",
   "metadata": {},
   "outputs": [
    {
     "name": "stdout",
     "output_type": "stream",
     "text": [
      "                AAPL      MSFT      TSLA     GOOGL      NVDA\n",
      "Date                                                        \n",
      "2020-04-21 -0.031398 -0.042237 -0.083281 -0.039620 -0.063051\n",
      "2020-04-22  0.028396  0.033401  0.064004  0.037445  0.059911\n",
      "2020-04-23 -0.003883 -0.012176 -0.036840  0.010089 -0.007507\n",
      "2020-04-24  0.028461  0.018095  0.027288  0.004263  0.019457\n",
      "2020-04-27  0.000706 -0.002869  0.096669 -0.004506  0.025535\n",
      "...              ...       ...       ...       ...       ...\n",
      "2025-04-11  0.039792  0.018447 -0.000357  0.027876  0.030758\n",
      "2025-04-14  0.021814 -0.001649  0.000159  0.012207 -0.001985\n",
      "2025-04-15 -0.001878 -0.005378  0.006950 -0.017503  0.013369\n",
      "2025-04-16 -0.039712 -0.037293 -0.050691 -0.019249 -0.071192\n",
      "2025-04-17  0.013853 -0.010360 -0.000745 -0.014254 -0.029131\n",
      "\n",
      "[1256 rows x 5 columns]\n"
     ]
    }
   ],
   "source": [
    "# getting the daily return of the 5 stocks\n",
    "log_return = np.log(data/data.shift(1))\n",
    "log_return = log_return.dropna()\n",
    "print(log_return)"
   ]
  },
  {
   "cell_type": "code",
   "execution_count": 7,
   "id": "dc5ad604-1474-4fbc-a68c-2c4ce1e119ab",
   "metadata": {},
   "outputs": [
    {
     "name": "stdout",
     "output_type": "stream",
     "text": [
      "[0.2 0.2 0.2 0.2 0.2]\n"
     ]
    }
   ],
   "source": [
    "# lets assume that we have 1 million dollar portfolio and we are equally investing in the 5 stocks\n",
    "port_val = 1000000\n",
    "weight = np.array([1/len(tickers)]*len(tickers))\n",
    "print(weight)"
   ]
  },
  {
   "cell_type": "code",
   "execution_count": 8,
   "id": "3b72cc56-cb65-4121-85f1-4f65e268cb05",
   "metadata": {},
   "outputs": [
    {
     "data": {
      "text/plain": [
       "Date\n",
       "2020-04-21   -0.051917\n",
       "2020-04-22    0.044631\n",
       "2020-04-23   -0.010063\n",
       "2020-04-24    0.019512\n",
       "2020-04-27    0.023107\n",
       "                ...   \n",
       "2025-04-11    0.023303\n",
       "2025-04-14    0.006109\n",
       "2025-04-15   -0.000888\n",
       "2025-04-16   -0.043627\n",
       "2025-04-17   -0.008127\n",
       "Length: 1256, dtype: float64"
      ]
     },
     "execution_count": 8,
     "metadata": {},
     "output_type": "execute_result"
    }
   ],
   "source": [
    "# multiplying the desginated weight with each stocks and summing it to get the return on the portfolio\n",
    "hist_return = (log_return * weight).sum(axis =1)\n",
    "hist_return"
   ]
  },
  {
   "cell_type": "code",
   "execution_count": 9,
   "id": "f8f8d83d-a844-42c8-8490-29850727fc75",
   "metadata": {},
   "outputs": [
    {
     "data": {
      "text/plain": [
       "-34818.20910074116"
      ]
     },
     "execution_count": 9,
     "metadata": {},
     "output_type": "execute_result"
    }
   ],
   "source": [
    "# cf is confidence interval \n",
    "# using the percentile method to get the value standing at 5th position out of 100 data\n",
    "# calculating the daily VAR of the portfolio i.e., 5% chance that the portfolio can loose atleast the given amount \n",
    "cf = 0.95\n",
    "var = np.percentile(hist_return,100 - (cf*100))\n",
    "var_dollar = var * port_val\n",
    "var_dollar"
   ]
  },
  {
   "cell_type": "code",
   "execution_count": null,
   "id": "7247e575-cd09-460b-a27f-f7cd839e5347",
   "metadata": {},
   "outputs": [],
   "source": []
  }
 ],
 "metadata": {
  "kernelspec": {
   "display_name": "Python 3 (ipykernel)",
   "language": "python",
   "name": "python3"
  },
  "language_info": {
   "codemirror_mode": {
    "name": "ipython",
    "version": 3
   },
   "file_extension": ".py",
   "mimetype": "text/x-python",
   "name": "python",
   "nbconvert_exporter": "python",
   "pygments_lexer": "ipython3",
   "version": "3.12.7"
  }
 },
 "nbformat": 4,
 "nbformat_minor": 5
}
